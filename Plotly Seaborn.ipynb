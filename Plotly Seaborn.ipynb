{
 "cells": [
  {
   "cell_type": "code",
   "execution_count": 3,
   "metadata": {
    "ExecuteTime": {
     "end_time": "2021-02-06T08:55:31.201031Z",
     "start_time": "2021-02-06T08:55:31.149035Z"
    },
    "scrolled": true
   },
   "outputs": [
    {
     "data": {
      "text/html": [
       "        <script type=\"text/javascript\">\n",
       "        window.PlotlyConfig = {MathJaxConfig: 'local'};\n",
       "        if (window.MathJax) {MathJax.Hub.Config({SVG: {font: \"STIX-Web\"}});}\n",
       "        if (typeof require !== 'undefined') {\n",
       "        require.undef(\"plotly\");\n",
       "        requirejs.config({\n",
       "            paths: {\n",
       "                'plotly': ['https://cdn.plot.ly/plotly-latest.min']\n",
       "            }\n",
       "        });\n",
       "        require(['plotly'], function(Plotly) {\n",
       "            window._Plotly = Plotly;\n",
       "        });\n",
       "        }\n",
       "        </script>\n",
       "        "
      ]
     },
     "metadata": {},
     "output_type": "display_data"
    },
    {
     "data": {
      "text/html": [
       "        <script type=\"text/javascript\">\n",
       "        window.PlotlyConfig = {MathJaxConfig: 'local'};\n",
       "        if (window.MathJax) {MathJax.Hub.Config({SVG: {font: \"STIX-Web\"}});}\n",
       "        if (typeof require !== 'undefined') {\n",
       "        require.undef(\"plotly\");\n",
       "        requirejs.config({\n",
       "            paths: {\n",
       "                'plotly': ['https://cdn.plot.ly/plotly-latest.min']\n",
       "            }\n",
       "        });\n",
       "        require(['plotly'], function(Plotly) {\n",
       "            window._Plotly = Plotly;\n",
       "        });\n",
       "        }\n",
       "        </script>\n",
       "        "
      ]
     },
     "metadata": {},
     "output_type": "display_data"
    },
    {
     "data": {
      "text/html": [
       "        <script type=\"text/javascript\">\n",
       "        window.PlotlyConfig = {MathJaxConfig: 'local'};\n",
       "        if (window.MathJax) {MathJax.Hub.Config({SVG: {font: \"STIX-Web\"}});}\n",
       "        if (typeof require !== 'undefined') {\n",
       "        require.undef(\"plotly\");\n",
       "        requirejs.config({\n",
       "            paths: {\n",
       "                'plotly': ['https://cdn.plot.ly/plotly-latest.min']\n",
       "            }\n",
       "        });\n",
       "        require(['plotly'], function(Plotly) {\n",
       "            window._Plotly = Plotly;\n",
       "        });\n",
       "        }\n",
       "        </script>\n",
       "        "
      ]
     },
     "metadata": {},
     "output_type": "display_data"
    }
   ],
   "source": [
    "from pylab import rcParams\n",
    "import plotly.graph_objects as go\n",
    "from plotly.offline import download_plotlyjs, init_notebook_mode, plot, iplot\n",
    "import warnings\n",
    "import numpy as np\n",
    "import pandas as pd\n",
    "import plotly\n",
    "from IPython.display import Image\n",
    "import matplotlib\n",
    "from IPython.core.interactiveshell import InteractiveShell\n",
    "from wordcloud import WordCloud\n",
    "import seaborn as sns\n",
    "import matplotlib.pyplot as plt\n",
    "from plotly.subplots import make_subplots\n",
    "import plotly.express as px\n",
    "import plotly.graph_objs as go\n",
    "import chart_studio.plotly as py\n",
    "import cufflinks\n",
    "cufflinks.go_offline(connected=True)\n",
    "init_notebook_mode(connected=True)\n",
    "%matplotlib inline\n",
    "warnings.filterwarnings(\"ignore\")\n",
    "rcParams['figure.figsize'] = 8, 5\n",
    "pd.set_option('display.width', 85)\n",
    "pd.set_option('display.max_columns', 8)\n",
    "init_notebook_mode(connected=True)\n",
    "pd.options.display.float_format = '{:,.1f}'.format\n",
    "InteractiveShell.ast_node_interactivity = 'all'\n",
    "\n",
    "df = pd.read_csv('Video_Games_Sales.csv')"
   ]
  },
  {
   "cell_type": "markdown",
   "metadata": {},
   "source": [
    "СОРТИРОВКА"
   ]
  },
  {
   "cell_type": "code",
   "execution_count": 9,
   "metadata": {
    "ExecuteTime": {
     "end_time": "2021-02-06T08:57:18.294287Z",
     "start_time": "2021-02-06T08:57:18.283288Z"
    }
   },
   "outputs": [
    {
     "data": {
      "text/html": [
       "<div>\n",
       "<style scoped>\n",
       "    .dataframe tbody tr th:only-of-type {\n",
       "        vertical-align: middle;\n",
       "    }\n",
       "\n",
       "    .dataframe tbody tr th {\n",
       "        vertical-align: top;\n",
       "    }\n",
       "\n",
       "    .dataframe thead th {\n",
       "        text-align: right;\n",
       "    }\n",
       "</style>\n",
       "<table border=\"1\" class=\"dataframe\">\n",
       "  <thead>\n",
       "    <tr style=\"text-align: right;\">\n",
       "      <th></th>\n",
       "      <th>0</th>\n",
       "      <th>2</th>\n",
       "      <th>3</th>\n",
       "      <th>6</th>\n",
       "      <th>7</th>\n",
       "    </tr>\n",
       "  </thead>\n",
       "  <tbody>\n",
       "    <tr>\n",
       "      <th>Name</th>\n",
       "      <td>Wii Sports</td>\n",
       "      <td>Mario Kart Wii</td>\n",
       "      <td>Wii Sports Resort</td>\n",
       "      <td>New Super Mario Bros.</td>\n",
       "      <td>Wii Play</td>\n",
       "    </tr>\n",
       "    <tr>\n",
       "      <th>Platform</th>\n",
       "      <td>Wii</td>\n",
       "      <td>Wii</td>\n",
       "      <td>Wii</td>\n",
       "      <td>DS</td>\n",
       "      <td>Wii</td>\n",
       "    </tr>\n",
       "    <tr>\n",
       "      <th>Year_of_Release</th>\n",
       "      <td>2006</td>\n",
       "      <td>2008</td>\n",
       "      <td>2009</td>\n",
       "      <td>2006</td>\n",
       "      <td>2006</td>\n",
       "    </tr>\n",
       "    <tr>\n",
       "      <th>Genre</th>\n",
       "      <td>Sports</td>\n",
       "      <td>Racing</td>\n",
       "      <td>Sports</td>\n",
       "      <td>Platform</td>\n",
       "      <td>Misc</td>\n",
       "    </tr>\n",
       "    <tr>\n",
       "      <th>Publisher</th>\n",
       "      <td>Nintendo</td>\n",
       "      <td>Nintendo</td>\n",
       "      <td>Nintendo</td>\n",
       "      <td>Nintendo</td>\n",
       "      <td>Nintendo</td>\n",
       "    </tr>\n",
       "    <tr>\n",
       "      <th>NA_Sales</th>\n",
       "      <td>41.4</td>\n",
       "      <td>15.7</td>\n",
       "      <td>15.6</td>\n",
       "      <td>11.3</td>\n",
       "      <td>14.0</td>\n",
       "    </tr>\n",
       "    <tr>\n",
       "      <th>EU_Sales</th>\n",
       "      <td>29.0</td>\n",
       "      <td>12.8</td>\n",
       "      <td>10.9</td>\n",
       "      <td>9.1</td>\n",
       "      <td>9.2</td>\n",
       "    </tr>\n",
       "    <tr>\n",
       "      <th>JP_Sales</th>\n",
       "      <td>3.8</td>\n",
       "      <td>3.8</td>\n",
       "      <td>3.3</td>\n",
       "      <td>6.5</td>\n",
       "      <td>2.9</td>\n",
       "    </tr>\n",
       "    <tr>\n",
       "      <th>Other_Sales</th>\n",
       "      <td>8.4</td>\n",
       "      <td>3.3</td>\n",
       "      <td>3.0</td>\n",
       "      <td>2.9</td>\n",
       "      <td>2.8</td>\n",
       "    </tr>\n",
       "    <tr>\n",
       "      <th>Global_Sales</th>\n",
       "      <td>82.5</td>\n",
       "      <td>35.5</td>\n",
       "      <td>32.8</td>\n",
       "      <td>29.8</td>\n",
       "      <td>28.9</td>\n",
       "    </tr>\n",
       "    <tr>\n",
       "      <th>Critic_Score</th>\n",
       "      <td>76.0</td>\n",
       "      <td>82.0</td>\n",
       "      <td>80.0</td>\n",
       "      <td>89.0</td>\n",
       "      <td>58.0</td>\n",
       "    </tr>\n",
       "    <tr>\n",
       "      <th>Critic_Count</th>\n",
       "      <td>51</td>\n",
       "      <td>73</td>\n",
       "      <td>73</td>\n",
       "      <td>65</td>\n",
       "      <td>41</td>\n",
       "    </tr>\n",
       "    <tr>\n",
       "      <th>User_Score</th>\n",
       "      <td>8.0</td>\n",
       "      <td>8.3</td>\n",
       "      <td>8.0</td>\n",
       "      <td>8.5</td>\n",
       "      <td>6.6</td>\n",
       "    </tr>\n",
       "    <tr>\n",
       "      <th>User_Count</th>\n",
       "      <td>322</td>\n",
       "      <td>709</td>\n",
       "      <td>192</td>\n",
       "      <td>431</td>\n",
       "      <td>129</td>\n",
       "    </tr>\n",
       "    <tr>\n",
       "      <th>Developer</th>\n",
       "      <td>Nintendo</td>\n",
       "      <td>Nintendo</td>\n",
       "      <td>Nintendo</td>\n",
       "      <td>Nintendo</td>\n",
       "      <td>Nintendo</td>\n",
       "    </tr>\n",
       "    <tr>\n",
       "      <th>Rating</th>\n",
       "      <td>E</td>\n",
       "      <td>E</td>\n",
       "      <td>E</td>\n",
       "      <td>E</td>\n",
       "      <td>E</td>\n",
       "    </tr>\n",
       "  </tbody>\n",
       "</table>\n",
       "</div>"
      ],
      "text/plain": [
       "                          0               2                  3  \\\n",
       "Name             Wii Sports  Mario Kart Wii  Wii Sports Resort   \n",
       "Platform                Wii             Wii                Wii   \n",
       "Year_of_Release        2006            2008               2009   \n",
       "Genre                Sports          Racing             Sports   \n",
       "Publisher          Nintendo        Nintendo           Nintendo   \n",
       "NA_Sales               41.4            15.7               15.6   \n",
       "EU_Sales               29.0            12.8               10.9   \n",
       "JP_Sales                3.8             3.8                3.3   \n",
       "Other_Sales             8.4             3.3                3.0   \n",
       "Global_Sales           82.5            35.5               32.8   \n",
       "Critic_Score           76.0            82.0               80.0   \n",
       "Critic_Count             51              73                 73   \n",
       "User_Score              8.0             8.3                8.0   \n",
       "User_Count              322             709                192   \n",
       "Developer          Nintendo        Nintendo           Nintendo   \n",
       "Rating                    E               E                  E   \n",
       "\n",
       "                                     6         7  \n",
       "Name             New Super Mario Bros.  Wii Play  \n",
       "Platform                            DS       Wii  \n",
       "Year_of_Release                   2006      2006  \n",
       "Genre                         Platform      Misc  \n",
       "Publisher                     Nintendo  Nintendo  \n",
       "NA_Sales                          11.3      14.0  \n",
       "EU_Sales                           9.1       9.2  \n",
       "JP_Sales                           6.5       2.9  \n",
       "Other_Sales                        2.9       2.8  \n",
       "Global_Sales                      29.8      28.9  \n",
       "Critic_Score                      89.0      58.0  \n",
       "Critic_Count                        65        41  \n",
       "User_Score                         8.5       6.6  \n",
       "User_Count                         431       129  \n",
       "Developer                     Nintendo  Nintendo  \n",
       "Rating                               E         E  "
      ]
     },
     "execution_count": 9,
     "metadata": {},
     "output_type": "execute_result"
    }
   ],
   "source": [
    "df.head().T"
   ]
  },
  {
   "cell_type": "code",
   "execution_count": 4,
   "metadata": {
    "ExecuteTime": {
     "end_time": "2021-02-06T08:55:34.297893Z",
     "start_time": "2021-02-06T08:55:34.243499Z"
    }
   },
   "outputs": [],
   "source": [
    "df = df.dropna()"
   ]
  },
  {
   "cell_type": "code",
   "execution_count": 5,
   "metadata": {
    "ExecuteTime": {
     "end_time": "2021-02-06T08:55:39.146265Z",
     "start_time": "2021-02-06T08:55:39.139264Z"
    }
   },
   "outputs": [],
   "source": [
    "df['User_Score'] = df.User_Score.astype('float64')\n",
    "df['Year_of_Release'] = df.Year_of_Release.astype('int64')\n",
    "df['User_Count'] = df.User_Count.astype('int64')\n",
    "df['Critic_Count'] = df.Critic_Count.astype('int64')"
   ]
  },
  {
   "cell_type": "code",
   "execution_count": 8,
   "metadata": {
    "ExecuteTime": {
     "end_time": "2021-02-06T08:56:39.472348Z",
     "start_time": "2021-02-06T08:56:39.459349Z"
    },
    "scrolled": true
   },
   "outputs": [
    {
     "data": {
      "text/html": [
       "<div>\n",
       "<style scoped>\n",
       "    .dataframe tbody tr th:only-of-type {\n",
       "        vertical-align: middle;\n",
       "    }\n",
       "\n",
       "    .dataframe tbody tr th {\n",
       "        vertical-align: top;\n",
       "    }\n",
       "\n",
       "    .dataframe thead th {\n",
       "        text-align: right;\n",
       "    }\n",
       "</style>\n",
       "<table border=\"1\" class=\"dataframe\">\n",
       "  <thead>\n",
       "    <tr style=\"text-align: right;\">\n",
       "      <th></th>\n",
       "      <th>0</th>\n",
       "      <th>2</th>\n",
       "      <th>3</th>\n",
       "      <th>6</th>\n",
       "      <th>7</th>\n",
       "    </tr>\n",
       "  </thead>\n",
       "  <tbody>\n",
       "    <tr>\n",
       "      <th>Name</th>\n",
       "      <td>Wii Sports</td>\n",
       "      <td>Mario Kart Wii</td>\n",
       "      <td>Wii Sports Resort</td>\n",
       "      <td>New Super Mario Bros.</td>\n",
       "      <td>Wii Play</td>\n",
       "    </tr>\n",
       "    <tr>\n",
       "      <th>Platform</th>\n",
       "      <td>Wii</td>\n",
       "      <td>Wii</td>\n",
       "      <td>Wii</td>\n",
       "      <td>DS</td>\n",
       "      <td>Wii</td>\n",
       "    </tr>\n",
       "    <tr>\n",
       "      <th>Year_of_Release</th>\n",
       "      <td>2006</td>\n",
       "      <td>2008</td>\n",
       "      <td>2009</td>\n",
       "      <td>2006</td>\n",
       "      <td>2006</td>\n",
       "    </tr>\n",
       "    <tr>\n",
       "      <th>Genre</th>\n",
       "      <td>Sports</td>\n",
       "      <td>Racing</td>\n",
       "      <td>Sports</td>\n",
       "      <td>Platform</td>\n",
       "      <td>Misc</td>\n",
       "    </tr>\n",
       "    <tr>\n",
       "      <th>Global_Sales</th>\n",
       "      <td>82.5</td>\n",
       "      <td>35.5</td>\n",
       "      <td>32.8</td>\n",
       "      <td>29.8</td>\n",
       "      <td>28.9</td>\n",
       "    </tr>\n",
       "    <tr>\n",
       "      <th>Critic_Score</th>\n",
       "      <td>76.0</td>\n",
       "      <td>82.0</td>\n",
       "      <td>80.0</td>\n",
       "      <td>89.0</td>\n",
       "      <td>58.0</td>\n",
       "    </tr>\n",
       "    <tr>\n",
       "      <th>Critic_Count</th>\n",
       "      <td>51</td>\n",
       "      <td>73</td>\n",
       "      <td>73</td>\n",
       "      <td>65</td>\n",
       "      <td>41</td>\n",
       "    </tr>\n",
       "    <tr>\n",
       "      <th>User_Score</th>\n",
       "      <td>8.0</td>\n",
       "      <td>8.3</td>\n",
       "      <td>8.0</td>\n",
       "      <td>8.5</td>\n",
       "      <td>6.6</td>\n",
       "    </tr>\n",
       "    <tr>\n",
       "      <th>User_Count</th>\n",
       "      <td>322</td>\n",
       "      <td>709</td>\n",
       "      <td>192</td>\n",
       "      <td>431</td>\n",
       "      <td>129</td>\n",
       "    </tr>\n",
       "    <tr>\n",
       "      <th>Rating</th>\n",
       "      <td>E</td>\n",
       "      <td>E</td>\n",
       "      <td>E</td>\n",
       "      <td>E</td>\n",
       "      <td>E</td>\n",
       "    </tr>\n",
       "  </tbody>\n",
       "</table>\n",
       "</div>"
      ],
      "text/plain": [
       "                          0               2                  3  \\\n",
       "Name             Wii Sports  Mario Kart Wii  Wii Sports Resort   \n",
       "Platform                Wii             Wii                Wii   \n",
       "Year_of_Release        2006            2008               2009   \n",
       "Genre                Sports          Racing             Sports   \n",
       "Global_Sales           82.5            35.5               32.8   \n",
       "Critic_Score           76.0            82.0               80.0   \n",
       "Critic_Count             51              73                 73   \n",
       "User_Score              8.0             8.3                8.0   \n",
       "User_Count              322             709                192   \n",
       "Rating                    E               E                  E   \n",
       "\n",
       "                                     6         7  \n",
       "Name             New Super Mario Bros.  Wii Play  \n",
       "Platform                            DS       Wii  \n",
       "Year_of_Release                   2006      2006  \n",
       "Genre                         Platform      Misc  \n",
       "Global_Sales                      29.8      28.9  \n",
       "Critic_Score                      89.0      58.0  \n",
       "Critic_Count                        65        41  \n",
       "User_Score                         8.5       6.6  \n",
       "User_Count                         431       129  \n",
       "Rating                               E         E  "
      ]
     },
     "execution_count": 8,
     "metadata": {},
     "output_type": "execute_result"
    }
   ],
   "source": [
    "useful_cols = ['Name', 'Platform', 'Year_of_Release', 'Genre', \n",
    "               'Global_Sales', 'Critic_Score', 'Critic_Count',\n",
    "               'User_Score', 'User_Count', 'Rating'\n",
    "              ]\n",
    "df[useful_cols].head().T"
   ]
  },
  {
   "cell_type": "code",
   "execution_count": 7,
   "metadata": {
    "ExecuteTime": {
     "end_time": "2021-02-06T08:55:59.179333Z",
     "start_time": "2021-02-06T08:55:58.859771Z"
    }
   },
   "outputs": [
    {
     "data": {
      "text/plain": [
       "<AxesSubplot:xlabel='Year_of_Release'>"
      ]
     },
     "execution_count": 7,
     "metadata": {},
     "output_type": "execute_result"
    },
    {
     "data": {
      "image/png": "[encoded data removed]",
      "text/plain": [
       "<Figure size 576x360 with 1 Axes>"
      ]
     },
     "metadata": {
      "needs_background": "light"
     },
     "output_type": "display_data"
    }
   ],
   "source": [
    "sales_df = df[[x for x in df.columns if 'Sales' in x] + ['Year_of_Release']]\n",
    "sales_df.groupby('Year_of_Release').sum().plot()"
   ]
  },
  {
   "cell_type": "code",
   "execution_count": 10,
   "metadata": {
    "ExecuteTime": {
     "end_time": "2021-02-06T08:58:26.019565Z",
     "start_time": "2021-02-06T08:58:26.010563Z"
    }
   },
   "outputs": [
    {
     "data": {
      "text/html": [
       "<div>\n",
       "<style scoped>\n",
       "    .dataframe tbody tr th:only-of-type {\n",
       "        vertical-align: middle;\n",
       "    }\n",
       "\n",
       "    .dataframe tbody tr th {\n",
       "        vertical-align: top;\n",
       "    }\n",
       "\n",
       "    .dataframe thead th {\n",
       "        text-align: right;\n",
       "    }\n",
       "</style>\n",
       "<table border=\"1\" class=\"dataframe\">\n",
       "  <thead>\n",
       "    <tr style=\"text-align: right;\">\n",
       "      <th></th>\n",
       "      <th>NA_Sales</th>\n",
       "      <th>EU_Sales</th>\n",
       "      <th>JP_Sales</th>\n",
       "      <th>Other_Sales</th>\n",
       "      <th>Global_Sales</th>\n",
       "      <th>Year_of_Release</th>\n",
       "    </tr>\n",
       "  </thead>\n",
       "  <tbody>\n",
       "    <tr>\n",
       "      <th>0</th>\n",
       "      <td>41.4</td>\n",
       "      <td>29.0</td>\n",
       "      <td>3.8</td>\n",
       "      <td>8.4</td>\n",
       "      <td>82.5</td>\n",
       "      <td>2006</td>\n",
       "    </tr>\n",
       "    <tr>\n",
       "      <th>2</th>\n",
       "      <td>15.7</td>\n",
       "      <td>12.8</td>\n",
       "      <td>3.8</td>\n",
       "      <td>3.3</td>\n",
       "      <td>35.5</td>\n",
       "      <td>2008</td>\n",
       "    </tr>\n",
       "    <tr>\n",
       "      <th>3</th>\n",
       "      <td>15.6</td>\n",
       "      <td>10.9</td>\n",
       "      <td>3.3</td>\n",
       "      <td>3.0</td>\n",
       "      <td>32.8</td>\n",
       "      <td>2009</td>\n",
       "    </tr>\n",
       "    <tr>\n",
       "      <th>6</th>\n",
       "      <td>11.3</td>\n",
       "      <td>9.1</td>\n",
       "      <td>6.5</td>\n",
       "      <td>2.9</td>\n",
       "      <td>29.8</td>\n",
       "      <td>2006</td>\n",
       "    </tr>\n",
       "    <tr>\n",
       "      <th>7</th>\n",
       "      <td>14.0</td>\n",
       "      <td>9.2</td>\n",
       "      <td>2.9</td>\n",
       "      <td>2.8</td>\n",
       "      <td>28.9</td>\n",
       "      <td>2006</td>\n",
       "    </tr>\n",
       "  </tbody>\n",
       "</table>\n",
       "</div>"
      ],
      "text/plain": [
       "   NA_Sales  EU_Sales  JP_Sales  Other_Sales  Global_Sales  Year_of_Release\n",
       "0      41.4      29.0       3.8          8.4          82.5             2006\n",
       "2      15.7      12.8       3.8          3.3          35.5             2008\n",
       "3      15.6      10.9       3.3          3.0          32.8             2009\n",
       "6      11.3       9.1       6.5          2.9          29.8             2006\n",
       "7      14.0       9.2       2.9          2.8          28.9             2006"
      ]
     },
     "execution_count": 10,
     "metadata": {},
     "output_type": "execute_result"
    }
   ],
   "source": [
    "sales_df.head()"
   ]
  },
  {
   "cell_type": "code",
   "execution_count": 14,
   "metadata": {
    "ExecuteTime": {
     "end_time": "2021-02-06T09:01:56.513211Z",
     "start_time": "2021-02-06T09:01:56.066183Z"
    },
    "scrolled": true
   },
   "outputs": [
    {
     "data": {
      "text/plain": [
       "<AxesSubplot:xlabel='Year_of_Release'>"
      ]
     },
     "execution_count": 14,
     "metadata": {},
     "output_type": "execute_result"
    },
    {
     "data": {
      "image/png": "[encoded data removed]",
      "text/plain": [
       "<Figure size 576x360 with 1 Axes>"
      ]
     },
     "metadata": {
      "needs_background": "light"
     },
     "output_type": "display_data"
    }
   ],
   "source": [
    "sales_df.groupby('Year_of_Release').sum().plot(kind='bar', rot=45)"
   ]
  },
  {
   "cell_type": "markdown",
   "metadata": {},
   "source": [
    "cols = ['Global_Sales', 'Critic_Score', 'Critic_Count', 'User_Score', 'User_Count']\n",
    "sns_plot = sns.pairplot(df[cols])\n",
    "sns_plot.savefig('pairplot.png')"
   ]
  },
  {
   "cell_type": "markdown",
   "metadata": {},
   "source": [
    "cols = ['Global_Sales', 'Critic_Score', 'Critic_Count', 'User_Score', 'User_Count']\n",
    "sns_plot = sns.pairplot(df[cols])\n",
    "sns_plot.savefig('pairplot.png')\n",
    "\n",
    "Как можно видеть, на диагонали матрицы графиков расположены гистограммы распределений признака. Остальные же графики — это обычные scatter plots для соответствующих пар признаков. Для сохранения графиков в файлы стоит использовать метод savefig."
   ]
  },
  {
   "cell_type": "code",
   "execution_count": 15,
   "metadata": {
    "ExecuteTime": {
     "end_time": "2021-02-06T09:02:21.932649Z",
     "start_time": "2021-02-06T09:02:21.722647Z"
    }
   },
   "outputs": [
    {
     "data": {
      "text/plain": [
       "<AxesSubplot:xlabel='Critic_Score', ylabel='Density'>"
      ]
     },
     "execution_count": 15,
     "metadata": {},
     "output_type": "execute_result"
    },
    {
     "data": {
      "image/png": "[encoded data removed]",
      "text/plain": [
       "<Figure size 576x360 with 1 Axes>"
      ]
     },
     "metadata": {
      "needs_background": "light"
     },
     "output_type": "display_data"
    }
   ],
   "source": [
    "sns.distplot(df.Critic_Score)"
   ]
  },
  {
   "cell_type": "code",
   "execution_count": 16,
   "metadata": {
    "ExecuteTime": {
     "end_time": "2021-02-06T09:02:35.404359Z",
     "start_time": "2021-02-06T09:02:34.850332Z"
    },
    "scrolled": true
   },
   "outputs": [
    {
     "data": {
      "text/plain": [
       "<seaborn.axisgrid.JointGrid at 0x181025a6e80>"
      ]
     },
     "execution_count": 16,
     "metadata": {},
     "output_type": "execute_result"
    },
    {
     "data": {
      "image/png": "[encoded data removed]",
      "text/plain": [
       "<Figure size 432x432 with 3 Axes>"
      ]
     },
     "metadata": {
      "needs_background": "light"
     },
     "output_type": "display_data"
    }
   ],
   "source": [
    "sns.jointplot(df.Critic_Score, df.User_Score)"
   ]
  },
  {
   "cell_type": "code",
   "execution_count": 17,
   "metadata": {
    "ExecuteTime": {
     "end_time": "2021-02-06T09:02:54.066782Z",
     "start_time": "2021-02-06T09:02:53.913778Z"
    },
    "scrolled": true
   },
   "outputs": [
    {
     "data": {
      "text/plain": [
       "<AxesSubplot:xlabel='Global_Sales', ylabel='Platform'>"
      ]
     },
     "execution_count": 17,
     "metadata": {},
     "output_type": "execute_result"
    },
    {
     "data": {
      "image/png": "[encoded data removed]",
      "text/plain": [
       "<Figure size 576x360 with 1 Axes>"
      ]
     },
     "metadata": {
      "needs_background": "light"
     },
     "output_type": "display_data"
    }
   ],
   "source": [
    "top_platforms = df.Platform.value_counts().sort_values(ascending = False).head(5).index.values\n",
    "sns.boxplot(y='Platform', x='Global_Sales', data=df[df.Platform.isin(top_platforms)], orient = 'h')"
   ]
  },
  {
   "cell_type": "code",
   "execution_count": null,
   "metadata": {},
   "outputs": [],
   "source": [
    "platform_genre_sales = df.pivot_table(\n",
    "                        index='Platform',\n",
    "                        columns='Genre',\n",
    "                        values='Global_Sales',\n",
    "                        aggfunc=sum).fillna(0).applymap(float)\n",
    "sns.heatmap(platform_genre_sales, annot=True, fmt='.1f', linewidths=.4)"
   ]
  },
  {
   "cell_type": "code",
   "execution_count": null,
   "metadata": {},
   "outputs": [],
   "source": [
    "#Посчитаем число вышедших игр и проданных копий по годам\n",
    "years_df = df.groupby('Year_of_Release')[['Global_Sales']].sum().join(\n",
    "    df.groupby('Year_of_Release')[['Name']].count()\n",
    ")\n",
    "years_df.columns = ['Global_Sales', 'Number_of_Games']"
   ]
  },
  {
   "cell_type": "code",
   "execution_count": null,
   "metadata": {},
   "outputs": [],
   "source": [
    "#создаем линию для числа проданных копий\n",
    "trace0 = go.Scatter(\n",
    "    x=years_df.index,\n",
    "    y=years_df.Global_Sales,\n",
    "    name='Global_Sales'\n",
    ")"
   ]
  },
  {
   "cell_type": "code",
   "execution_count": null,
   "metadata": {},
   "outputs": [],
   "source": [
    "#создаем линию для числа вышедших игр\n",
    "trace1 = go.Scatter(\n",
    "    x=years_df.index,\n",
    "    y=years_df.Number_of_Games,\n",
    "    name='Number of games released'\n",
    ")"
   ]
  },
  {
   "cell_type": "code",
   "execution_count": null,
   "metadata": {},
   "outputs": [],
   "source": [
    "#Определяем массив данных и задаем title графика в Layout\n",
    "data = [trace0, trace1]\n",
    "layout = {'title': 'Statistics of video games'}"
   ]
  },
  {
   "cell_type": "markdown",
   "metadata": {},
   "source": [
    "В plotly строится визуализация объекта Figure, который состоит из данных (массив линий, которые в библиотеке называются traces) и оформления/стиля, за который отвечает объект layout. В простых случаях можно вызывать функцию iplot и просто от массива traces.\n",
    "\n",
    "Параметр show_link отвечает за ссылки на online-платформу plot.ly на графиках. Поскольку обычно это функциональность не нужна, то я предпочитаю скрывать ее для предотвращения случайных нажатий."
   ]
  },
  {
   "cell_type": "code",
   "execution_count": null,
   "metadata": {},
   "outputs": [],
   "source": [
    "#создаем объект Figure и визуализируем его\n",
    "fig = go.Figure(data=data, layout=layout)\n",
    "iplot(fig, show_link=False)"
   ]
  },
  {
   "cell_type": "code",
   "execution_count": null,
   "metadata": {},
   "outputs": [],
   "source": [
    "#Можно открыть график в html файле\n",
    "plotly.offline.plot(fig, filename='years_stats.html', show_link=False)"
   ]
  },
  {
   "cell_type": "code",
   "execution_count": null,
   "metadata": {
    "scrolled": true
   },
   "outputs": [],
   "source": [
    "# считаем число проданных и вышедших игр по платформам\n",
    "platforms_df = df.groupby('Platform')[['Global_Sales']].sum().join(\n",
    "    df.groupby('Platform')[['Name']].count()\n",
    ")\n",
    "platforms_df.columns = ['Global_Sales', 'Number_of_Games']\n",
    "platforms_df.sort_values('Global_Sales', ascending=False, inplace=True)\n",
    "\n",
    "# создаем traces для визуализации\n",
    "trace0 = go.Bar(\n",
    "    x=platforms_df.index,\n",
    "    y=platforms_df.Global_Sales,\n",
    "    name='Global Sales'\n",
    ")\n",
    "\n",
    "trace1 = go.Bar(\n",
    "    x=platforms_df.index,\n",
    "    y=platforms_df.Number_of_Games,\n",
    "    name='Number of games released'\n",
    ")\n",
    "\n",
    "# создаем массив с данными и задаем title для графика и оси x в layout\n",
    "data = [trace0, trace1]\n",
    "layout = {'title': 'Share of platforms', 'xaxis': {'title': 'platform'}}\n",
    "\n",
    "# создаем объект Figure и визуализируем его\n",
    "fig = go.Figure(data=data, layout=layout)\n",
    "iplot(fig, show_link=False)"
   ]
  },
  {
   "cell_type": "code",
   "execution_count": null,
   "metadata": {},
   "outputs": [],
   "source": [
    "# создаем Box trace для каждого жанра из наших данных\n",
    "data = []\n",
    "for genre in df.Genre.unique():\n",
    "    data.append(\n",
    "        go.Box(y=df[df.Genre==genre].Critic_Score, name=genre)\n",
    "    )\n",
    "\n",
    "# визуализируем данные\n",
    "iplot(data, show_link = False)"
   ]
  },
  {
   "cell_type": "code",
   "execution_count": null,
   "metadata": {},
   "outputs": [],
   "source": [
    "df = pd.read_csv('bigml_59c28831336c6604c800002a.csv')"
   ]
  },
  {
   "cell_type": "code",
   "execution_count": null,
   "metadata": {},
   "outputs": [],
   "source": [
    "df['churn'].value_counts().plot(kind='bar', label='Churn')\n",
    "plt.legend()\n",
    "plt.title('Распределение оттока клиентов')\n"
   ]
  },
  {
   "cell_type": "code",
   "execution_count": null,
   "metadata": {},
   "outputs": [],
   "source": [
    "corr_matrix = df.drop(['state', 'international plan', 'voice mail plan',\n",
    "                      'area code'], axis=1).corr()"
   ]
  },
  {
   "cell_type": "code",
   "execution_count": null,
   "metadata": {
    "scrolled": true
   },
   "outputs": [],
   "source": [
    "sns.heatmap(corr_matrix);"
   ]
  },
  {
   "cell_type": "code",
   "execution_count": null,
   "metadata": {
    "scrolled": true
   },
   "outputs": [],
   "source": [
    "features = list(set(df.columns) - set(['state', 'international plan', 'voice mail plan',  'area code',\n",
    "                                      'total day charge',   'total eve charge',   'total night charge',\n",
    "                                        'total intl charge', 'churn']))\n",
    "\n",
    "df[features].hist(figsize=(20,12));"
   ]
  },
  {
   "cell_type": "code",
   "execution_count": null,
   "metadata": {},
   "outputs": [],
   "source": [
    "sns.pairplot(df[features + ['churn']], hue='churn');"
   ]
  },
  {
   "cell_type": "code",
   "execution_count": null,
   "metadata": {},
   "outputs": [],
   "source": [
    "fig, axes = plt.subplots(nrows=3, ncols=4, figsize=(16, 10))\n",
    "\n",
    "for idx, feat in  enumerate(features):\n",
    "    sns.boxplot(x='churn', y=feat, data=df, ax=axes[idx / 4, idx % 4])\n",
    "    axes[idx / 4, idx % 4].legend()\n",
    "    axes[idx / 4, idx % 4].set_xlabel('churn')\n",
    "    axes[idx / 4, idx % 4].set_ylabel(feat);"
   ]
  },
  {
   "cell_type": "code",
   "execution_count": null,
   "metadata": {},
   "outputs": [],
   "source": [
    "_, axes = plt.subplots(1, 2, sharey=True, figsize=(16,6))\n",
    "\n",
    "sns.countplot(x='international plan', hue='churn', data=df, ax=axes[0]);\n",
    "sns.countplot(x='voice mail plan', hue='churn', data=df, ax=axes[1]);"
   ]
  },
  {
   "cell_type": "code",
   "execution_count": null,
   "metadata": {},
   "outputs": [],
   "source": [
    "df.groupby(['state'])['churn'].agg([np.mean]).sort_values(by='mean', ascending=False).T"
   ]
  },
  {
   "cell_type": "code",
   "execution_count": null,
   "metadata": {},
   "outputs": [],
   "source": [
    "from sklearn.manifold import TSNE\n",
    "from sklearn.preprocessing import StandardScaler"
   ]
  },
  {
   "cell_type": "code",
   "execution_count": null,
   "metadata": {
    "scrolled": true
   },
   "outputs": [],
   "source": [
    "# преобразуем все признаки в числовые, выкинув штаты\n",
    "X = df.drop(['churn', 'state'], axis=1)\n",
    "X['international plan'] = pd.factorize(X['international plan'])[0]\n",
    "X['voice mail plan'] = pd.factorize(X['voice mail plan'])[0]\n",
    "\n",
    "scaler = StandardScaler()\n",
    "X_scaled = scaler.fit_transform(X)\n",
    "\n",
    "%%time\n",
    "tsne = TSNE(random_state=17)\n",
    "tsne_representation = tsne.fit_transform(X_scaled)"
   ]
  },
  {
   "cell_type": "code",
   "execution_count": null,
   "metadata": {},
   "outputs": [],
   "source": [
    "plt.scatter(tsne_representation[:, 0], tsne_representation[:, 1]);"
   ]
  }
 ],
 "metadata": {
  "hide_input": false,
  "kernelspec": {
   "display_name": "Python 3",
   "language": "python",
   "name": "python3"
  },
  "language_info": {
   "codemirror_mode": {
    "name": "ipython",
    "version": 3
   },
   "file_extension": ".py",
   "mimetype": "text/x-python",
   "name": "python",
   "nbconvert_exporter": "python",
   "pygments_lexer": "ipython3",
   "version": "3.8.3"
  },
  "latex_envs": {
   "LaTeX_envs_menu_present": true,
   "autoclose": false,
   "autocomplete": true,
   "bibliofile": "biblio.bib",
   "cite_by": "apalike",
   "current_citInitial": 1,
   "eqLabelWithNumbers": true,
   "eqNumInitial": 1,
   "hotkeys": {
    "equation": "Ctrl-E",
    "itemize": "Ctrl-I"
   },
   "labels_anchors": false,
   "latex_user_defs": false,
   "report_style_numbering": false,
   "user_envs_cfg": false
  },
  "nbTranslate": {
   "displayLangs": [
    "*"
   ],
   "hotkey": "alt-t",
   "langInMainMenu": true,
   "sourceLang": "en",
   "targetLang": "fr",
   "useGoogleTranslate": true
  },
  "toc": {
   "base_numbering": 1,
   "nav_menu": {},
   "number_sections": true,
   "sideBar": true,
   "skip_h1_title": false,
   "title_cell": "Table of Contents",
   "title_sidebar": "Contents",
   "toc_cell": false,
   "toc_position": {},
   "toc_section_display": true,
   "toc_window_display": false
  },
  "varInspector": {
   "cols": {
    "lenName": 16,
    "lenType": 16,
    "lenVar": 40
   },
   "kernels_config": {
    "python": {
     "delete_cmd_postfix": "",
     "delete_cmd_prefix": "del ",
     "library": "var_list.py",
     "varRefreshCmd": "print(var_dic_list())"
    },
    "r": {
     "delete_cmd_postfix": ") ",
     "delete_cmd_prefix": "rm(",
     "library": "var_list.r",
     "varRefreshCmd": "cat(var_dic_list()) "
    }
   },
   "types_to_exclude": [
    "module",
    "function",
    "builtin_function_or_method",
    "instance",
    "_Feature"
   ],
   "window_display": false
  }
 },
 "nbformat": 4,
 "nbformat_minor": 4
}
